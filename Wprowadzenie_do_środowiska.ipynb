{
  "nbformat": 4,
  "nbformat_minor": 0,
  "metadata": {
    "colab": {
      "provenance": [],
      "toc_visible": true,
      "authorship_tag": "ABX9TyNoaxq3YPmfO+/JrUqyfqKW",
      "include_colab_link": true
    },
    "kernelspec": {
      "name": "python3",
      "display_name": "Python 3"
    },
    "language_info": {
      "name": "python"
    }
  },
  "cells": [
    {
      "cell_type": "markdown",
      "metadata": {
        "id": "view-in-github",
        "colab_type": "text"
      },
      "source": [
        "<a href=\"https://colab.research.google.com/github/MamKamienia/kursAI/blob/main/Wprowadzenie_do_%C5%9Brodowiska.ipynb\" target=\"_parent\"><img src=\"https://colab.research.google.com/assets/colab-badge.svg\" alt=\"Open In Colab\"/></a>"
      ]
    },
    {
      "cell_type": "markdown",
      "source": [
        "# **Podstawowe elementy języka python**"
      ],
      "metadata": {
        "id": "Ote8ojS5FPqa"
      }
    },
    {
      "cell_type": "markdown",
      "source": [
        "*W tym rozdziale przedstawimy podstawowe elementy\n",
        "składni języka Python.*"
      ],
      "metadata": {
        "id": "xRbYG1PUFd2C"
      }
    },
    {
      "cell_type": "markdown",
      "source": [
        "https://www.python.org/."
      ],
      "metadata": {
        "id": "9YOzWa1bF2j6"
      }
    },
    {
      "cell_type": "markdown",
      "source": [
        "## Omawiane elementy"
      ],
      "metadata": {
        "id": "s394o9xFGGUy"
      }
    },
    {
      "cell_type": "markdown",
      "source": [
        "\n",
        "\n",
        "1. Zmienne\n",
        "2. Listy\n",
        "3. Pętle\n",
        "4. Słowniki i krotki\n",
        "5. Instrukcje warunkowe\n",
        "6. Funkcje\n",
        "7. Obsługa plików\n",
        "8. Obsługa wyjątków\n",
        "\n",
        "\n",
        "\n"
      ],
      "metadata": {
        "id": "7qNKGNm7GLly"
      }
    },
    {
      "cell_type": "code",
      "source": [],
      "metadata": {
        "id": "clBXG7AZG1Oq"
      },
      "execution_count": null,
      "outputs": []
    }
  ]
}